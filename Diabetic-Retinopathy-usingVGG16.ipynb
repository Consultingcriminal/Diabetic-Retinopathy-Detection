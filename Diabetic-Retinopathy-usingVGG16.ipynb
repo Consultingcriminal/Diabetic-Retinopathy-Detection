{
 "cells": [
  {
   "cell_type": "markdown",
   "metadata": {},
   "source": [
    "This kernel is about training a 224 x 224 images of diabetic retinopathy images. Since these are images with 224 x 224 size, we'll use Convolutional2d model, in this case we'll use VGG16 as our CNN model with the pretrained weights of imagenet. Firstly, we'll split the input into train and test. We'll use split_folders to do this. However we must first install as this is not a basic python package that's already preinstalled in Kaggle."
   ]
  },
  {
   "cell_type": "code",
   "execution_count": 1,
   "metadata": {},
   "outputs": [
    {
     "name": "stdout",
     "output_type": "stream",
     "text": [
      "Collecting split_folders\n",
      "  Downloading split_folders-0.3.1-py3-none-any.whl (6.2 kB)\n",
      "Installing collected packages: split-folders\n",
      "Successfully installed split-folders-0.3.1\n"
     ]
    }
   ],
   "source": [
    "!pip install split_folders"
   ]
  },
  {
   "cell_type": "code",
   "execution_count": 2,
   "metadata": {
    "_cell_guid": "b1076dfc-b9ad-4769-8c92-a6c4dae69d19",
    "_uuid": "8f2839f25d086af736a60e9eeb907d3b93b6e0e5"
   },
   "outputs": [
    {
     "name": "stderr",
     "output_type": "stream",
     "text": [
      "Using TensorFlow backend.\n"
     ]
    }
   ],
   "source": [
    "import split_folders\n",
    "\n",
    "from tensorflow.keras.applications.vgg16 import VGG16\n",
    "from tensorflow.keras.applications.vgg16 import preprocess_input\n",
    "from tensorflow.keras.models import Model, Sequential\n",
    "from tensorflow.keras.preprocessing.image import ImageDataGenerator\n",
    "from tensorflow.keras.optimizers import Adam\n",
    "from keras.preprocessing import image\n",
    "import tensorflow as tf\n",
    "from tensorflow.keras.layers import Dense, Conv2D, MaxPool2D , Flatten,Dropout\n",
    "from tensorflow.keras.losses import categorical_crossentropy\n",
    "from tensorflow.keras.callbacks import ModelCheckpoint, EarlyStopping,LearningRateScheduler\n",
    "from tensorflow.keras import metrics\n",
    "from glob import glob\n",
    "\n",
    "\n",
    "from sklearn.utils import class_weight\n",
    "from collections import Counter\n",
    "\n",
    "import matplotlib.pyplot as plt\n",
    "\n",
    "import os\n",
    "from os import listdir\n",
    "from os.path import isfile, join"
   ]
  },
  {
   "cell_type": "markdown",
   "metadata": {},
   "source": [
    "Then we make our folders for train and validation where the split will be placed."
   ]
  },
  {
   "cell_type": "code",
   "execution_count": 3,
   "metadata": {
    "_cell_guid": "79c7e3d0-c299-4dcb-8224-4455121ee9b0",
    "_uuid": "d629ff2d2480ee46fbb7e2d37f6b5fab8052498a"
   },
   "outputs": [],
   "source": [
    "os.makedirs('output')\n",
    "os.makedirs('output/train')\n",
    "os.makedirs('output/val')"
   ]
  },
  {
   "cell_type": "markdown",
   "metadata": {},
   "source": [
    "Double checking where our input will be..."
   ]
  },
  {
   "cell_type": "code",
   "execution_count": 4,
   "metadata": {},
   "outputs": [
    {
     "name": "stdout",
     "output_type": "stream",
     "text": [
      "gaussian_filtered_images\r\n"
     ]
    }
   ],
   "source": [
    "!ls ../input/diabetic-retinopathy-224x224-gaussian-filtered/gaussian_filtered_images"
   ]
  },
  {
   "cell_type": "markdown",
   "metadata": {},
   "source": [
    "And then split the input into train and validation. We'll have a 80-20 split with specified seed to 1 for reproducibility"
   ]
  },
  {
   "cell_type": "code",
   "execution_count": 5,
   "metadata": {},
   "outputs": [
    {
     "name": "stderr",
     "output_type": "stream",
     "text": [
      "Copying files: 3662 files [00:06, 585.07 files/s]\n"
     ]
    }
   ],
   "source": [
    "img_loc = '../input/diabetic-retinopathy-224x224-gaussian-filtered/gaussian_filtered_images/gaussian_filtered_images/'\n",
    "\n",
    "split_folders.ratio(img_loc, output='output', seed=1, ratio=(0.8, 0.2))"
   ]
  },
  {
   "cell_type": "code",
   "execution_count": 6,
   "metadata": {},
   "outputs": [
    {
     "name": "stdout",
     "output_type": "stream",
     "text": [
      "train  val\r\n"
     ]
    }
   ],
   "source": [
    "!ls output"
   ]
  },
  {
   "cell_type": "code",
   "execution_count": 7,
   "metadata": {},
   "outputs": [],
   "source": [
    "train_loc = 'output/train/'\n",
    "test_loc = 'output/val/'"
   ]
  },
  {
   "cell_type": "markdown",
   "metadata": {},
   "source": [
    "Then let's use the ImageDataGenerator to get our train and validation images with their corresponding categories."
   ]
  },
  {
   "cell_type": "code",
   "execution_count": null,
   "metadata": {},
   "outputs": [],
   "source": []
  },
  {
   "cell_type": "code",
   "execution_count": 8,
   "metadata": {},
   "outputs": [
    {
     "name": "stdout",
     "output_type": "stream",
     "text": [
      "Found 2929 images belonging to 5 classes.\n",
      "Found 733 images belonging to 5 classes.\n"
     ]
    }
   ],
   "source": [
    "trdata = ImageDataGenerator()\n",
    "traindata = trdata.flow_from_directory(directory=train_loc, target_size=(224,224),)\n",
    "tsdata = ImageDataGenerator()\n",
    "testdata = tsdata.flow_from_directory(directory=test_loc, target_size=(224,224))"
   ]
  },
  {
   "cell_type": "markdown",
   "metadata": {},
   "source": [
    "Load the VGG16 pretrained model with imagenet. Then set the prediction or output layer to 5 outputs which corresponds to 5 different categories -- Severe, No_DR, Moderate, Proliferate_DR, and Mild."
   ]
  },
  {
   "cell_type": "code",
   "execution_count": 9,
   "metadata": {},
   "outputs": [],
   "source": [
    "IMAGE_SIZE=[224,224]\n"
   ]
  },
  {
   "cell_type": "code",
   "execution_count": 10,
   "metadata": {},
   "outputs": [
    {
     "name": "stdout",
     "output_type": "stream",
     "text": [
      "Downloading data from https://github.com/fchollet/deep-learning-models/releases/download/v0.1/vgg16_weights_tf_dim_ordering_tf_kernels.h5\n",
      "553467904/553467096 [==============================] - 35s 0us/step\n",
      "Model: \"vgg16\"\n",
      "_________________________________________________________________\n",
      "Layer (type)                 Output Shape              Param #   \n",
      "=================================================================\n",
      "input_1 (InputLayer)         [(None, 224, 224, 3)]     0         \n",
      "_________________________________________________________________\n",
      "block1_conv1 (Conv2D)        (None, 224, 224, 64)      1792      \n",
      "_________________________________________________________________\n",
      "block1_conv2 (Conv2D)        (None, 224, 224, 64)      36928     \n",
      "_________________________________________________________________\n",
      "block1_pool (MaxPooling2D)   (None, 112, 112, 64)      0         \n",
      "_________________________________________________________________\n",
      "block2_conv1 (Conv2D)        (None, 112, 112, 128)     73856     \n",
      "_________________________________________________________________\n",
      "block2_conv2 (Conv2D)        (None, 112, 112, 128)     147584    \n",
      "_________________________________________________________________\n",
      "block2_pool (MaxPooling2D)   (None, 56, 56, 128)       0         \n",
      "_________________________________________________________________\n",
      "block3_conv1 (Conv2D)        (None, 56, 56, 256)       295168    \n",
      "_________________________________________________________________\n",
      "block3_conv2 (Conv2D)        (None, 56, 56, 256)       590080    \n",
      "_________________________________________________________________\n",
      "block3_conv3 (Conv2D)        (None, 56, 56, 256)       590080    \n",
      "_________________________________________________________________\n",
      "block3_pool (MaxPooling2D)   (None, 28, 28, 256)       0         \n",
      "_________________________________________________________________\n",
      "block4_conv1 (Conv2D)        (None, 28, 28, 512)       1180160   \n",
      "_________________________________________________________________\n",
      "block4_conv2 (Conv2D)        (None, 28, 28, 512)       2359808   \n",
      "_________________________________________________________________\n",
      "block4_conv3 (Conv2D)        (None, 28, 28, 512)       2359808   \n",
      "_________________________________________________________________\n",
      "block4_pool (MaxPooling2D)   (None, 14, 14, 512)       0         \n",
      "_________________________________________________________________\n",
      "block5_conv1 (Conv2D)        (None, 14, 14, 512)       2359808   \n",
      "_________________________________________________________________\n",
      "block5_conv2 (Conv2D)        (None, 14, 14, 512)       2359808   \n",
      "_________________________________________________________________\n",
      "block5_conv3 (Conv2D)        (None, 14, 14, 512)       2359808   \n",
      "_________________________________________________________________\n",
      "block5_pool (MaxPooling2D)   (None, 7, 7, 512)         0         \n",
      "_________________________________________________________________\n",
      "flatten (Flatten)            (None, 25088)             0         \n",
      "_________________________________________________________________\n",
      "fc1 (Dense)                  (None, 4096)              102764544 \n",
      "_________________________________________________________________\n",
      "fc2 (Dense)                  (None, 4096)              16781312  \n",
      "_________________________________________________________________\n",
      "predictions (Dense)          (None, 1000)              4097000   \n",
      "=================================================================\n",
      "Total params: 138,357,544\n",
      "Trainable params: 138,357,544\n",
      "Non-trainable params: 0\n",
      "_________________________________________________________________\n"
     ]
    }
   ],
   "source": [
    "vgg16 = VGG16(weights='imagenet')\n",
    "vgg16.summary()\n",
    "\n",
    "x  = vgg16.get_layer('fc2').output\n",
    "x1=Dense(1000,activation='relu',name='FC1000')(x)\n",
    "x2=Dropout(0.3,name='Dropout0.2')(x1)\n",
    "prediction = Dense(5, activation='softmax', name='predictions')(x2)\n",
    "\n",
    "model = Model(inputs=vgg16.input, outputs=prediction)"
   ]
  },
  {
   "cell_type": "markdown",
   "metadata": {},
   "source": [
    "Imagenet is trained with different kinds of objects. Our images are health related images, which means we must set some of the VGG16 layers to trainable. For this task, I'm using only the 1st Conv2d set as non-trainable to get the edges of our images/focus object. And the rest as trainable."
   ]
  },
  {
   "cell_type": "code",
   "execution_count": 11,
   "metadata": {},
   "outputs": [
    {
     "name": "stdout",
     "output_type": "stream",
     "text": [
      "Layer 'block3_conv1' is trainable\n",
      "Layer 'block3_conv2' is trainable\n",
      "Layer 'block3_conv3' is trainable\n",
      "Layer 'block3_pool' is trainable\n",
      "Layer 'block4_conv1' is trainable\n",
      "Layer 'block4_conv2' is trainable\n",
      "Layer 'block4_conv3' is trainable\n",
      "Layer 'block4_pool' is trainable\n",
      "Layer 'block5_conv1' is trainable\n",
      "Layer 'block5_conv2' is trainable\n",
      "Layer 'block5_conv3' is trainable\n",
      "Layer 'block5_pool' is trainable\n",
      "Layer 'flatten' is trainable\n",
      "Layer 'fc1' is trainable\n",
      "Layer 'fc2' is trainable\n",
      "Layer 'FC1000' is trainable\n",
      "Layer 'Dropout0.2' is trainable\n",
      "Layer 'predictions' is trainable\n"
     ]
    }
   ],
   "source": [
    "\n",
    "for layer in model.layers:\n",
    "    layer.trainable = False\n",
    "\n",
    "for layer in model.layers[-18:]:\n",
    "    layer.trainable = True\n",
    "    print(\"Layer '%s' is trainable\" % layer.name)  "
   ]
  },
  {
   "cell_type": "markdown",
   "metadata": {},
   "source": [
    "Then we'll use Adam optimiser and use accuracy as our main metric."
   ]
  },
  {
   "cell_type": "code",
   "execution_count": 12,
   "metadata": {},
   "outputs": [
    {
     "name": "stdout",
     "output_type": "stream",
     "text": [
      "Model: \"model\"\n",
      "_________________________________________________________________\n",
      "Layer (type)                 Output Shape              Param #   \n",
      "=================================================================\n",
      "input_1 (InputLayer)         [(None, 224, 224, 3)]     0         \n",
      "_________________________________________________________________\n",
      "block1_conv1 (Conv2D)        (None, 224, 224, 64)      1792      \n",
      "_________________________________________________________________\n",
      "block1_conv2 (Conv2D)        (None, 224, 224, 64)      36928     \n",
      "_________________________________________________________________\n",
      "block1_pool (MaxPooling2D)   (None, 112, 112, 64)      0         \n",
      "_________________________________________________________________\n",
      "block2_conv1 (Conv2D)        (None, 112, 112, 128)     73856     \n",
      "_________________________________________________________________\n",
      "block2_conv2 (Conv2D)        (None, 112, 112, 128)     147584    \n",
      "_________________________________________________________________\n",
      "block2_pool (MaxPooling2D)   (None, 56, 56, 128)       0         \n",
      "_________________________________________________________________\n",
      "block3_conv1 (Conv2D)        (None, 56, 56, 256)       295168    \n",
      "_________________________________________________________________\n",
      "block3_conv2 (Conv2D)        (None, 56, 56, 256)       590080    \n",
      "_________________________________________________________________\n",
      "block3_conv3 (Conv2D)        (None, 56, 56, 256)       590080    \n",
      "_________________________________________________________________\n",
      "block3_pool (MaxPooling2D)   (None, 28, 28, 256)       0         \n",
      "_________________________________________________________________\n",
      "block4_conv1 (Conv2D)        (None, 28, 28, 512)       1180160   \n",
      "_________________________________________________________________\n",
      "block4_conv2 (Conv2D)        (None, 28, 28, 512)       2359808   \n",
      "_________________________________________________________________\n",
      "block4_conv3 (Conv2D)        (None, 28, 28, 512)       2359808   \n",
      "_________________________________________________________________\n",
      "block4_pool (MaxPooling2D)   (None, 14, 14, 512)       0         \n",
      "_________________________________________________________________\n",
      "block5_conv1 (Conv2D)        (None, 14, 14, 512)       2359808   \n",
      "_________________________________________________________________\n",
      "block5_conv2 (Conv2D)        (None, 14, 14, 512)       2359808   \n",
      "_________________________________________________________________\n",
      "block5_conv3 (Conv2D)        (None, 14, 14, 512)       2359808   \n",
      "_________________________________________________________________\n",
      "block5_pool (MaxPooling2D)   (None, 7, 7, 512)         0         \n",
      "_________________________________________________________________\n",
      "flatten (Flatten)            (None, 25088)             0         \n",
      "_________________________________________________________________\n",
      "fc1 (Dense)                  (None, 4096)              102764544 \n",
      "_________________________________________________________________\n",
      "fc2 (Dense)                  (None, 4096)              16781312  \n",
      "_________________________________________________________________\n",
      "FC1000 (Dense)               (None, 1000)              4097000   \n",
      "_________________________________________________________________\n",
      "Dropout0.2 (Dropout)         (None, 1000)              0         \n",
      "_________________________________________________________________\n",
      "predictions (Dense)          (None, 5)                 5005      \n",
      "=================================================================\n",
      "Total params: 138,362,549\n",
      "Trainable params: 138,102,389\n",
      "Non-trainable params: 260,160\n",
      "_________________________________________________________________\n"
     ]
    }
   ],
   "source": [
    "model.summary()"
   ]
  },
  {
   "cell_type": "code",
   "execution_count": 13,
   "metadata": {},
   "outputs": [],
   "source": [
    "checkpoint = ModelCheckpoint(\"vgg16_diabetes.h5\", monitor='val_accuracy', verbose=1, \n",
    "                             save_best_only=True, save_weights_only=False, mode='auto')\n",
    "early = EarlyStopping(monitor='val_accuracy', min_delta=0, patience=20, verbose=1, mode='auto')\n",
    "def scheduler(epoch):\n",
    "  if epoch < 10:\n",
    "    return 0.0001\n",
    "  else:\n",
    "    return 0.0001 * tf.math.exp(0.1 * (10 - epoch))\n",
    "\n",
    "LearningRateScheduler = tf.keras.callbacks.LearningRateScheduler(scheduler)\n"
   ]
  },
  {
   "cell_type": "code",
   "execution_count": 14,
   "metadata": {},
   "outputs": [
    {
     "data": {
      "text/plain": [
       "{0: 4.878378378378378,\n",
       " 1: 1.8072590738423029,\n",
       " 2: 1.0,\n",
       " 3: 6.11864406779661,\n",
       " 4: 9.376623376623376}"
      ]
     },
     "execution_count": 14,
     "metadata": {},
     "output_type": "execute_result"
    }
   ],
   "source": [
    "counter = Counter(traindata.classes)                       \n",
    "max_val = float(max(counter.values()))   \n",
    "class_weights = {class_id : max_val/num_images for class_id, num_images in counter.items()}\n",
    "class_weights"
   ]
  },
  {
   "cell_type": "code",
   "execution_count": 15,
   "metadata": {},
   "outputs": [],
   "source": [
    "model.compile(optimizer='adam', loss=categorical_crossentropy, \n",
    "              metrics=['accuracy'])\n"
   ]
  },
  {
   "cell_type": "markdown",
   "metadata": {},
   "source": [
    "Notice that our non-trainable parameters are just about 260k while trainable parameters are 134M. This was the result of setting trainable layers which we did earlier.\n",
    "\n",
    "Then we create the checkpoint (which saves the weights when we get the best validation accuracy while training) and early stopping (which stops the training when we reach a certain number of epochs and the validation accuracy is not improving). In our case, we set it to only 20 epochs (denoted by the patience attribute)."
   ]
  },
  {
   "cell_type": "markdown",
   "metadata": {},
   "source": [
    "To make sure that we have a fair training of our data, we use class weights. We compute this by using Counter to count the number of images per class/category over the number of the supposed max number of images per class/category."
   ]
  },
  {
   "cell_type": "markdown",
   "metadata": {},
   "source": [
    "Now that everything's set, let's start training!\n",
    "\n",
    "Note that we are computing the steps per epoch and the validation steps. This is to get the optimal number of these variables for training our data."
   ]
  },
  {
   "cell_type": "code",
   "execution_count": 16,
   "metadata": {},
   "outputs": [
    {
     "name": "stdout",
     "output_type": "stream",
     "text": [
      "Train for 91 steps, validate for 22 steps\n",
      "Epoch 1/80\n",
      "90/91 [============================>.] - ETA: 0s - loss: 3.6470 - accuracy: 0.5162\n",
      "Epoch 00001: val_accuracy improved from -inf to 0.52699, saving model to vgg16_diabetes.h5\n",
      "91/91 [==============================] - 27s 294ms/step - loss: 3.6351 - accuracy: 0.5181 - val_loss: 3.0384 - val_accuracy: 0.5270\n",
      "Epoch 2/80\n",
      "90/91 [============================>.] - ETA: 0s - loss: 2.9376 - accuracy: 0.6122\n",
      "Epoch 00002: val_accuracy improved from 0.52699 to 0.56392, saving model to vgg16_diabetes.h5\n",
      "91/91 [==============================] - 21s 236ms/step - loss: 2.9457 - accuracy: 0.6110 - val_loss: 2.9993 - val_accuracy: 0.5639\n",
      "Epoch 3/80\n",
      "90/91 [============================>.] - ETA: 0s - loss: 2.8075 - accuracy: 0.6216\n",
      "Epoch 00003: val_accuracy improved from 0.56392 to 0.65625, saving model to vgg16_diabetes.h5\n",
      "91/91 [==============================] - 21s 228ms/step - loss: 2.8151 - accuracy: 0.6217 - val_loss: 2.5396 - val_accuracy: 0.6562\n",
      "Epoch 4/80\n",
      "90/91 [============================>.] - ETA: 0s - loss: 2.6363 - accuracy: 0.6614\n",
      "Epoch 00004: val_accuracy improved from 0.65625 to 0.73864, saving model to vgg16_diabetes.h5\n",
      "91/91 [==============================] - 44s 482ms/step - loss: 2.6406 - accuracy: 0.6621 - val_loss: 2.5403 - val_accuracy: 0.7386\n",
      "Epoch 5/80\n",
      "90/91 [============================>.] - ETA: 0s - loss: 2.5424 - accuracy: 0.6914\n",
      "Epoch 00005: val_accuracy did not improve from 0.73864\n",
      "91/91 [==============================] - 17s 184ms/step - loss: 2.5337 - accuracy: 0.6924 - val_loss: 2.5558 - val_accuracy: 0.7031\n",
      "Epoch 6/80\n",
      "90/91 [============================>.] - ETA: 0s - loss: 2.3436 - accuracy: 0.7173\n",
      "Epoch 00006: val_accuracy improved from 0.73864 to 0.75000, saving model to vgg16_diabetes.h5\n",
      "91/91 [==============================] - 30s 326ms/step - loss: 2.3487 - accuracy: 0.7176 - val_loss: 2.7353 - val_accuracy: 0.7500\n",
      "Epoch 7/80\n",
      "90/91 [============================>.] - ETA: 0s - loss: 2.2310 - accuracy: 0.7438\n",
      "Epoch 00007: val_accuracy did not improve from 0.75000\n",
      "91/91 [==============================] - 17s 184ms/step - loss: 2.2156 - accuracy: 0.7456 - val_loss: 2.2912 - val_accuracy: 0.7301\n",
      "Epoch 8/80\n",
      "90/91 [============================>.] - ETA: 0s - loss: 2.0436 - accuracy: 0.7640\n",
      "Epoch 00008: val_accuracy improved from 0.75000 to 0.75426, saving model to vgg16_diabetes.h5\n",
      "91/91 [==============================] - 21s 225ms/step - loss: 2.0421 - accuracy: 0.7639 - val_loss: 2.2881 - val_accuracy: 0.7543\n",
      "Epoch 9/80\n",
      "90/91 [============================>.] - ETA: 0s - loss: 1.9616 - accuracy: 0.7654\n",
      "Epoch 00009: val_accuracy did not improve from 0.75426\n",
      "91/91 [==============================] - 17s 187ms/step - loss: 1.9646 - accuracy: 0.7646 - val_loss: 2.7598 - val_accuracy: 0.6094\n",
      "Epoch 10/80\n",
      "90/91 [============================>.] - ETA: 0s - loss: 1.8867 - accuracy: 0.7640\n",
      "Epoch 00010: val_accuracy did not improve from 0.75426\n",
      "91/91 [==============================] - 17s 185ms/step - loss: 1.8842 - accuracy: 0.7649 - val_loss: 2.4113 - val_accuracy: 0.7486\n",
      "Epoch 11/80\n",
      "90/91 [============================>.] - ETA: 0s - loss: 1.8347 - accuracy: 0.7770\n",
      "Epoch 00011: val_accuracy did not improve from 0.75426\n",
      "91/91 [==============================] - 17s 186ms/step - loss: 1.8250 - accuracy: 0.7774 - val_loss: 2.8798 - val_accuracy: 0.6719\n",
      "Epoch 12/80\n",
      "90/91 [============================>.] - ETA: 0s - loss: 1.5462 - accuracy: 0.8073\n",
      "Epoch 00012: val_accuracy did not improve from 0.75426\n",
      "91/91 [==============================] - 17s 184ms/step - loss: 1.5480 - accuracy: 0.8070 - val_loss: 3.0634 - val_accuracy: 0.7216\n",
      "Epoch 13/80\n",
      "90/91 [============================>.] - ETA: 0s - loss: 1.3206 - accuracy: 0.8377\n",
      "Epoch 00013: val_accuracy did not improve from 0.75426\n",
      "91/91 [==============================] - 17s 187ms/step - loss: 1.3222 - accuracy: 0.8374 - val_loss: 3.3229 - val_accuracy: 0.7074\n",
      "Epoch 14/80\n",
      "90/91 [============================>.] - ETA: 0s - loss: 0.9703 - accuracy: 0.8775\n",
      "Epoch 00014: val_accuracy did not improve from 0.75426\n",
      "91/91 [==============================] - 17s 184ms/step - loss: 0.9773 - accuracy: 0.8771 - val_loss: 3.7174 - val_accuracy: 0.7330\n",
      "Epoch 15/80\n",
      "90/91 [============================>.] - ETA: 0s - loss: 0.8503 - accuracy: 0.8852\n",
      "Epoch 00015: val_accuracy improved from 0.75426 to 0.77983, saving model to vgg16_diabetes.h5\n",
      "91/91 [==============================] - 20s 225ms/step - loss: 0.8512 - accuracy: 0.8854 - val_loss: 3.7293 - val_accuracy: 0.7798\n",
      "Epoch 16/80\n",
      "90/91 [============================>.] - ETA: 0s - loss: 0.7128 - accuracy: 0.9166\n",
      "Epoch 00016: val_accuracy did not improve from 0.77983\n",
      "91/91 [==============================] - 17s 187ms/step - loss: 0.7069 - accuracy: 0.9172 - val_loss: 4.1722 - val_accuracy: 0.7642\n",
      "Epoch 17/80\n",
      "90/91 [============================>.] - ETA: 0s - loss: 0.3888 - accuracy: 0.9504\n",
      "Epoch 00017: val_accuracy improved from 0.77983 to 0.78977, saving model to vgg16_diabetes.h5\n",
      "91/91 [==============================] - 29s 317ms/step - loss: 0.3882 - accuracy: 0.9503 - val_loss: 4.6128 - val_accuracy: 0.7898\n",
      "Epoch 18/80\n",
      "90/91 [============================>.] - ETA: 0s - loss: 0.2567 - accuracy: 0.9693\n",
      "Epoch 00018: val_accuracy did not improve from 0.78977\n",
      "91/91 [==============================] - 17s 187ms/step - loss: 0.2698 - accuracy: 0.9689 - val_loss: 5.2329 - val_accuracy: 0.7855\n",
      "Epoch 19/80\n",
      "90/91 [============================>.] - ETA: 0s - loss: 0.2067 - accuracy: 0.9773\n",
      "Epoch 00019: val_accuracy did not improve from 0.78977\n",
      "91/91 [==============================] - 17s 186ms/step - loss: 0.2067 - accuracy: 0.9772 - val_loss: 6.0916 - val_accuracy: 0.7756\n",
      "Epoch 20/80\n",
      "90/91 [============================>.] - ETA: 0s - loss: 0.1544 - accuracy: 0.9812\n",
      "Epoch 00020: val_accuracy improved from 0.78977 to 0.79261, saving model to vgg16_diabetes.h5\n",
      "91/91 [==============================] - 21s 226ms/step - loss: 0.1529 - accuracy: 0.9814 - val_loss: 6.2836 - val_accuracy: 0.7926\n",
      "Epoch 21/80\n",
      "90/91 [============================>.] - ETA: 0s - loss: 0.1166 - accuracy: 0.9885\n",
      "Epoch 00021: val_accuracy did not improve from 0.79261\n",
      "91/91 [==============================] - 17s 185ms/step - loss: 0.1185 - accuracy: 0.9883 - val_loss: 5.7091 - val_accuracy: 0.7841\n",
      "Epoch 22/80\n",
      "90/91 [============================>.] - ETA: 0s - loss: 0.1086 - accuracy: 0.9874\n",
      "Epoch 00022: val_accuracy did not improve from 0.79261\n",
      "91/91 [==============================] - 17s 185ms/step - loss: 0.1075 - accuracy: 0.9876 - val_loss: 6.8495 - val_accuracy: 0.7784\n",
      "Epoch 23/80\n",
      "90/91 [============================>.] - ETA: 0s - loss: 0.0952 - accuracy: 0.9892\n",
      "Epoch 00023: val_accuracy did not improve from 0.79261\n",
      "91/91 [==============================] - 17s 185ms/step - loss: 0.0954 - accuracy: 0.9886 - val_loss: 7.1277 - val_accuracy: 0.7884\n",
      "Epoch 24/80\n",
      "90/91 [============================>.] - ETA: 0s - loss: 0.0809 - accuracy: 0.9895\n",
      "Epoch 00024: val_accuracy did not improve from 0.79261\n",
      "91/91 [==============================] - 17s 184ms/step - loss: 0.0824 - accuracy: 0.9893 - val_loss: 6.7985 - val_accuracy: 0.7756\n",
      "Epoch 25/80\n",
      "90/91 [============================>.] - ETA: 0s - loss: 0.0891 - accuracy: 0.9895\n",
      "Epoch 00025: val_accuracy did not improve from 0.79261\n",
      "91/91 [==============================] - 17s 185ms/step - loss: 0.0883 - accuracy: 0.9896 - val_loss: 6.3152 - val_accuracy: 0.7812\n",
      "Epoch 26/80\n",
      "90/91 [============================>.] - ETA: 0s - loss: 0.0861 - accuracy: 0.9895\n",
      "Epoch 00026: val_accuracy did not improve from 0.79261\n",
      "91/91 [==============================] - 17s 187ms/step - loss: 0.0851 - accuracy: 0.9896 - val_loss: 7.4443 - val_accuracy: 0.7855\n",
      "Epoch 27/80\n",
      "90/91 [============================>.] - ETA: 0s - loss: 0.0703 - accuracy: 0.9906\n",
      "Epoch 00027: val_accuracy did not improve from 0.79261\n",
      "91/91 [==============================] - 17s 185ms/step - loss: 0.0715 - accuracy: 0.9903 - val_loss: 8.1441 - val_accuracy: 0.7869\n",
      "Epoch 28/80\n",
      "90/91 [============================>.] - ETA: 0s - loss: 0.0688 - accuracy: 0.9899\n",
      "Epoch 00028: val_accuracy did not improve from 0.79261\n",
      "91/91 [==============================] - 17s 184ms/step - loss: 0.0681 - accuracy: 0.9900 - val_loss: 7.7659 - val_accuracy: 0.7812\n"
     ]
    },
    {
     "name": "stdout",
     "output_type": "stream",
     "text": [
      "Epoch 29/80\n",
      "90/91 [============================>.] - ETA: 0s - loss: 0.0665 - accuracy: 0.9902\n",
      "Epoch 00029: val_accuracy did not improve from 0.79261\n",
      "91/91 [==============================] - 17s 190ms/step - loss: 0.0658 - accuracy: 0.9903 - val_loss: 8.0329 - val_accuracy: 0.7884\n",
      "Epoch 30/80\n",
      "90/91 [============================>.] - ETA: 0s - loss: 0.0594 - accuracy: 0.9913\n",
      "Epoch 00030: val_accuracy did not improve from 0.79261\n",
      "91/91 [==============================] - 17s 186ms/step - loss: 0.0587 - accuracy: 0.9914 - val_loss: 8.3889 - val_accuracy: 0.7841\n",
      "Epoch 31/80\n",
      "90/91 [============================>.] - ETA: 0s - loss: 0.0621 - accuracy: 0.9902\n",
      "Epoch 00031: val_accuracy did not improve from 0.79261\n",
      "91/91 [==============================] - 17s 184ms/step - loss: 0.0614 - accuracy: 0.9903 - val_loss: 8.2782 - val_accuracy: 0.7869\n",
      "Epoch 32/80\n",
      "90/91 [============================>.] - ETA: 0s - loss: 0.0642 - accuracy: 0.9902\n",
      "Epoch 00032: val_accuracy did not improve from 0.79261\n",
      "91/91 [==============================] - 17s 186ms/step - loss: 0.0646 - accuracy: 0.9903 - val_loss: 8.5090 - val_accuracy: 0.7869\n",
      "Epoch 33/80\n",
      "90/91 [============================>.] - ETA: 0s - loss: 0.0626 - accuracy: 0.9909\n",
      "Epoch 00033: val_accuracy did not improve from 0.79261\n",
      "91/91 [==============================] - 17s 187ms/step - loss: 0.0619 - accuracy: 0.9910 - val_loss: 8.5079 - val_accuracy: 0.7841\n",
      "Epoch 34/80\n",
      "90/91 [============================>.] - ETA: 0s - loss: 0.0584 - accuracy: 0.9909\n",
      "Epoch 00034: val_accuracy did not improve from 0.79261\n",
      "91/91 [==============================] - 17s 186ms/step - loss: 0.0578 - accuracy: 0.9910 - val_loss: 8.7139 - val_accuracy: 0.7855\n",
      "Epoch 35/80\n",
      "90/91 [============================>.] - ETA: 0s - loss: 0.0626 - accuracy: 0.9906\n",
      "Epoch 00035: val_accuracy did not improve from 0.79261\n",
      "91/91 [==============================] - 17s 186ms/step - loss: 0.0619 - accuracy: 0.9907 - val_loss: 8.9448 - val_accuracy: 0.7855\n",
      "Epoch 36/80\n",
      "90/91 [============================>.] - ETA: 0s - loss: 0.0618 - accuracy: 0.9913\n",
      "Epoch 00036: val_accuracy did not improve from 0.79261\n",
      "91/91 [==============================] - 17s 187ms/step - loss: 0.0612 - accuracy: 0.9914 - val_loss: 8.9412 - val_accuracy: 0.7812\n",
      "Epoch 37/80\n",
      "90/91 [============================>.] - ETA: 0s - loss: 0.0596 - accuracy: 0.9913\n",
      "Epoch 00037: val_accuracy did not improve from 0.79261\n",
      "91/91 [==============================] - 17s 186ms/step - loss: 0.0590 - accuracy: 0.9914 - val_loss: 8.9327 - val_accuracy: 0.7855\n",
      "Epoch 38/80\n",
      "90/91 [============================>.] - ETA: 0s - loss: 0.0528 - accuracy: 0.9920\n",
      "Epoch 00038: val_accuracy did not improve from 0.79261\n",
      "91/91 [==============================] - 17s 185ms/step - loss: 0.0565 - accuracy: 0.9914 - val_loss: 9.0507 - val_accuracy: 0.7827\n",
      "Epoch 39/80\n",
      "90/91 [============================>.] - ETA: 0s - loss: 0.0576 - accuracy: 0.9913\n",
      "Epoch 00039: val_accuracy did not improve from 0.79261\n",
      "91/91 [==============================] - 17s 185ms/step - loss: 0.0594 - accuracy: 0.9910 - val_loss: 9.0688 - val_accuracy: 0.7827\n",
      "Epoch 40/80\n",
      "90/91 [============================>.] - ETA: 0s - loss: 0.0560 - accuracy: 0.9916\n",
      "Epoch 00040: val_accuracy did not improve from 0.79261\n",
      "91/91 [==============================] - 17s 189ms/step - loss: 0.0566 - accuracy: 0.9914 - val_loss: 9.1714 - val_accuracy: 0.7827\n",
      "Epoch 00040: early stopping\n"
     ]
    }
   ],
   "source": [
    "hist = model.fit(traindata, steps_per_epoch=traindata.samples//traindata.batch_size, validation_data=testdata, \n",
    "                 class_weight=class_weights, validation_steps=testdata.samples//testdata.batch_size, \n",
    "                 epochs=80,callbacks=[checkpoint,early,LearningRateScheduler])"
   ]
  },
  {
   "cell_type": "markdown",
   "metadata": {},
   "source": [
    "Then finally.. let's observe how the model is training. Let's plot our loss vs validation loss as well as accuracy vs validation accuracy."
   ]
  },
  {
   "cell_type": "code",
   "execution_count": 17,
   "metadata": {},
   "outputs": [
    {
     "data": {
      "image/png": "[encoded data removed]",
      "text/plain": [
       "<Figure size 432x288 with 1 Axes>"
      ]
     },
     "metadata": {
      "needs_background": "light"
     },
     "output_type": "display_data"
    },
    {
     "data": {
      "image/png": "[encoded data removed]",
      "text/plain": [
       "<Figure size 432x288 with 1 Axes>"
      ]
     },
     "metadata": {
      "needs_background": "light"
     },
     "output_type": "display_data"
    }
   ],
   "source": [
    "plt.plot(hist.history['loss'], label='train')\n",
    "plt.plot(hist.history['val_loss'], label='val')\n",
    "plt.title('VGG16: Loss and Validation Loss (0.000001 = Adam LR)')\n",
    "plt.legend();\n",
    "plt.show()\n",
    "\n",
    "plt.plot(hist.history['accuracy'], label='train')\n",
    "plt.plot(hist.history['val_accuracy'], label='val')\n",
    "plt.title('VGG16: Accuracy and Validation Accuracy (0.000001 = Adam LR)')\n",
    "plt.legend();\n",
    "plt.show()"
   ]
  },
  {
   "cell_type": "markdown",
   "metadata": {},
   "source": [
    "The Highest validation_accuracy was recorded to be 0.7926\n",
    "And that's that! \n",
    "\n",
    "Thanks!"
   ]
  }
 ],
 "metadata": {
  "kernelspec": {
   "display_name": "Python 3",
   "language": "python",
   "name": "python3"
  },
  "language_info": {
   "codemirror_mode": {
    "name": "ipython",
    "version": 3
   },
   "file_extension": ".py",
   "mimetype": "text/x-python",
   "name": "python",
   "nbconvert_exporter": "python",
   "pygments_lexer": "ipython3",
   "version": "3.7.7"
  }
 },
 "nbformat": 4,
 "nbformat_minor": 4
}
