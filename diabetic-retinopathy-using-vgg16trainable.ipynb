{
 "cells": [
  {
   "cell_type": "markdown",
   "metadata": {},
   "source": [
    "This kernel is about training a 224 x 224 images of diabetic retinopathy images. Since these are images with 224 x 224 size, we'll use Convolutional2d model, in this case we'll use VGG16 as our CNN model with the pretrained weights of imagenet. Firstly, we'll split the input into train and test. We'll use split_folders to do this. However we must first install as this is not a basic python package that's already preinstalled in Kaggle."
   ]
  },
  {
   "cell_type": "code",
   "execution_count": 1,
   "metadata": {},
   "outputs": [
    {
     "name": "stdout",
     "output_type": "stream",
     "text": [
      "Collecting split_folders\n",
      "  Downloading split_folders-0.3.1-py3-none-any.whl (6.2 kB)\n",
      "Installing collected packages: split-folders\n",
      "Successfully installed split-folders-0.3.1\n"
     ]
    }
   ],
   "source": [
    "!pip install split_folders"
   ]
  },
  {
   "cell_type": "code",
   "execution_count": 2,
   "metadata": {
    "_cell_guid": "b1076dfc-b9ad-4769-8c92-a6c4dae69d19",
    "_uuid": "8f2839f25d086af736a60e9eeb907d3b93b6e0e5"
   },
   "outputs": [
    {
     "name": "stderr",
     "output_type": "stream",
     "text": [
      "Using TensorFlow backend.\n"
     ]
    }
   ],
   "source": [
    "import split_folders\n",
    "\n",
    "from tensorflow.keras.applications.vgg16 import VGG16\n",
    "from tensorflow.keras.applications.vgg16 import preprocess_input\n",
    "from tensorflow.keras.models import Model, Sequential\n",
    "from tensorflow.keras.preprocessing.image import ImageDataGenerator\n",
    "from tensorflow.keras.optimizers import Adam\n",
    "from keras.preprocessing import image\n",
    "\n",
    "from tensorflow.keras.layers import Dense, Conv2D, MaxPool2D , Flatten\n",
    "from tensorflow.keras.losses import categorical_crossentropy\n",
    "from tensorflow.keras.callbacks import ModelCheckpoint, EarlyStopping\n",
    "from tensorflow.keras import metrics\n",
    "from glob import glob\n",
    "\n",
    "\n",
    "from sklearn.utils import class_weight\n",
    "from collections import Counter\n",
    "\n",
    "import matplotlib.pyplot as plt\n",
    "\n",
    "import os\n",
    "from os import listdir\n",
    "from os.path import isfile, join"
   ]
  },
  {
   "cell_type": "markdown",
   "metadata": {},
   "source": [
    "Then we make our folders for train and validation where the split will be placed."
   ]
  },
  {
   "cell_type": "code",
   "execution_count": 3,
   "metadata": {
    "_cell_guid": "79c7e3d0-c299-4dcb-8224-4455121ee9b0",
    "_uuid": "d629ff2d2480ee46fbb7e2d37f6b5fab8052498a"
   },
   "outputs": [],
   "source": [
    "os.makedirs('output')\n",
    "os.makedirs('output/train')\n",
    "os.makedirs('output/val')"
   ]
  },
  {
   "cell_type": "markdown",
   "metadata": {},
   "source": [
    "Double checking where our input will be..."
   ]
  },
  {
   "cell_type": "code",
   "execution_count": 4,
   "metadata": {},
   "outputs": [
    {
     "name": "stdout",
     "output_type": "stream",
     "text": [
      "gaussian_filtered_images\r\n"
     ]
    }
   ],
   "source": [
    "!ls ../input/diabetic-retinopathy-224x224-gaussian-filtered/gaussian_filtered_images"
   ]
  },
  {
   "cell_type": "markdown",
   "metadata": {},
   "source": [
    "And then split the input into train and validation. We'll have a 80-20 split with specified seed to 1 for reproducibility"
   ]
  },
  {
   "cell_type": "code",
   "execution_count": 5,
   "metadata": {},
   "outputs": [
    {
     "name": "stderr",
     "output_type": "stream",
     "text": [
      "Copying files: 3662 files [00:10, 347.01 files/s]\n"
     ]
    }
   ],
   "source": [
    "img_loc = '../input/diabetic-retinopathy-224x224-gaussian-filtered/gaussian_filtered_images/gaussian_filtered_images/'\n",
    "\n",
    "split_folders.ratio(img_loc, output='output', seed=1, ratio=(0.8, 0.2))"
   ]
  },
  {
   "cell_type": "code",
   "execution_count": 6,
   "metadata": {},
   "outputs": [
    {
     "name": "stdout",
     "output_type": "stream",
     "text": [
      "train  val\r\n"
     ]
    }
   ],
   "source": [
    "!ls output"
   ]
  },
  {
   "cell_type": "code",
   "execution_count": 7,
   "metadata": {},
   "outputs": [],
   "source": [
    "train_loc = 'output/train/'\n",
    "test_loc = 'output/val/'"
   ]
  },
  {
   "cell_type": "markdown",
   "metadata": {},
   "source": [
    "Then let's use the ImageDataGenerator to get our train and validation images with their corresponding categories."
   ]
  },
  {
   "cell_type": "code",
   "execution_count": null,
   "metadata": {},
   "outputs": [],
   "source": []
  },
  {
   "cell_type": "code",
   "execution_count": 8,
   "metadata": {},
   "outputs": [
    {
     "name": "stdout",
     "output_type": "stream",
     "text": [
      "Found 2929 images belonging to 5 classes.\n",
      "Found 733 images belonging to 5 classes.\n"
     ]
    }
   ],
   "source": [
    "trdata = ImageDataGenerator()\n",
    "traindata = trdata.flow_from_directory(directory=train_loc, target_size=(224,224),)\n",
    "tsdata = ImageDataGenerator()\n",
    "testdata = tsdata.flow_from_directory(directory=test_loc, target_size=(224,224))"
   ]
  },
  {
   "cell_type": "markdown",
   "metadata": {},
   "source": [
    "Load the VGG16 pretrained model with imagenet. Then set the prediction or output layer to 5 outputs which corresponds to 5 different categories -- Severe, No_DR, Moderate, Proliferate_DR, and Mild."
   ]
  },
  {
   "cell_type": "code",
   "execution_count": 9,
   "metadata": {},
   "outputs": [],
   "source": [
    "IMAGE_SIZE=[224,224]"
   ]
  },
  {
   "cell_type": "code",
   "execution_count": 10,
   "metadata": {},
   "outputs": [
    {
     "name": "stdout",
     "output_type": "stream",
     "text": [
      "Downloading data from https://github.com/fchollet/deep-learning-models/releases/download/v0.1/vgg16_weights_tf_dim_ordering_tf_kernels.h5\n",
      "553467904/553467096 [==============================] - 6s 0us/step\n",
      "Model: \"vgg16\"\n",
      "_________________________________________________________________\n",
      "Layer (type)                 Output Shape              Param #   \n",
      "=================================================================\n",
      "input_1 (InputLayer)         [(None, 224, 224, 3)]     0         \n",
      "_________________________________________________________________\n",
      "block1_conv1 (Conv2D)        (None, 224, 224, 64)      1792      \n",
      "_________________________________________________________________\n",
      "block1_conv2 (Conv2D)        (None, 224, 224, 64)      36928     \n",
      "_________________________________________________________________\n",
      "block1_pool (MaxPooling2D)   (None, 112, 112, 64)      0         \n",
      "_________________________________________________________________\n",
      "block2_conv1 (Conv2D)        (None, 112, 112, 128)     73856     \n",
      "_________________________________________________________________\n",
      "block2_conv2 (Conv2D)        (None, 112, 112, 128)     147584    \n",
      "_________________________________________________________________\n",
      "block2_pool (MaxPooling2D)   (None, 56, 56, 128)       0         \n",
      "_________________________________________________________________\n",
      "block3_conv1 (Conv2D)        (None, 56, 56, 256)       295168    \n",
      "_________________________________________________________________\n",
      "block3_conv2 (Conv2D)        (None, 56, 56, 256)       590080    \n",
      "_________________________________________________________________\n",
      "block3_conv3 (Conv2D)        (None, 56, 56, 256)       590080    \n",
      "_________________________________________________________________\n",
      "block3_pool (MaxPooling2D)   (None, 28, 28, 256)       0         \n",
      "_________________________________________________________________\n",
      "block4_conv1 (Conv2D)        (None, 28, 28, 512)       1180160   \n",
      "_________________________________________________________________\n",
      "block4_conv2 (Conv2D)        (None, 28, 28, 512)       2359808   \n",
      "_________________________________________________________________\n",
      "block4_conv3 (Conv2D)        (None, 28, 28, 512)       2359808   \n",
      "_________________________________________________________________\n",
      "block4_pool (MaxPooling2D)   (None, 14, 14, 512)       0         \n",
      "_________________________________________________________________\n",
      "block5_conv1 (Conv2D)        (None, 14, 14, 512)       2359808   \n",
      "_________________________________________________________________\n",
      "block5_conv2 (Conv2D)        (None, 14, 14, 512)       2359808   \n",
      "_________________________________________________________________\n",
      "block5_conv3 (Conv2D)        (None, 14, 14, 512)       2359808   \n",
      "_________________________________________________________________\n",
      "block5_pool (MaxPooling2D)   (None, 7, 7, 512)         0         \n",
      "_________________________________________________________________\n",
      "flatten (Flatten)            (None, 25088)             0         \n",
      "_________________________________________________________________\n",
      "fc1 (Dense)                  (None, 4096)              102764544 \n",
      "_________________________________________________________________\n",
      "fc2 (Dense)                  (None, 4096)              16781312  \n",
      "_________________________________________________________________\n",
      "predictions (Dense)          (None, 1000)              4097000   \n",
      "=================================================================\n",
      "Total params: 138,357,544\n",
      "Trainable params: 138,357,544\n",
      "Non-trainable params: 0\n",
      "_________________________________________________________________\n"
     ]
    }
   ],
   "source": [
    "vgg16 = VGG16(weights='imagenet')\n",
    "vgg16.summary()\n",
    "\n",
    "x  = vgg16.get_layer('fc2').output\n",
    "prediction = Dense(5, activation='softmax', name='predictions')(x)\n",
    "\n",
    "model = Model(inputs=vgg16.input, outputs=prediction)"
   ]
  },
  {
   "cell_type": "markdown",
   "metadata": {},
   "source": [
    "Imagenet is trained with different kinds of objects. Our images are health related images, which means we must set some of the VGG16 layers to trainable. For this task, I'm using only the 1st Conv2d set as non-trainable to get the edges of our images/focus object. And the rest as trainable."
   ]
  },
  {
   "cell_type": "code",
   "execution_count": 11,
   "metadata": {},
   "outputs": [
    {
     "name": "stdout",
     "output_type": "stream",
     "text": [
      "Layer 'block3_conv1' is trainable\n",
      "Layer 'block3_conv2' is trainable\n",
      "Layer 'block3_conv3' is trainable\n",
      "Layer 'block3_pool' is trainable\n",
      "Layer 'block4_conv1' is trainable\n",
      "Layer 'block4_conv2' is trainable\n",
      "Layer 'block4_conv3' is trainable\n",
      "Layer 'block4_pool' is trainable\n",
      "Layer 'block5_conv1' is trainable\n",
      "Layer 'block5_conv2' is trainable\n",
      "Layer 'block5_conv3' is trainable\n",
      "Layer 'block5_pool' is trainable\n",
      "Layer 'flatten' is trainable\n",
      "Layer 'fc1' is trainable\n",
      "Layer 'fc2' is trainable\n",
      "Layer 'predictions' is trainable\n"
     ]
    }
   ],
   "source": [
    "\n",
    "for layer in model.layers:\n",
    "    layer.trainable = False\n",
    "\n",
    "for layer in model.layers[-16:]:\n",
    "    layer.trainable = True\n",
    "    print(\"Layer '%s' is trainable\" % layer.name)  "
   ]
  },
  {
   "cell_type": "markdown",
   "metadata": {},
   "source": [
    "Then we'll use Adam optimiser and use accuracy as our main metric."
   ]
  },
  {
   "cell_type": "code",
   "execution_count": 12,
   "metadata": {},
   "outputs": [
    {
     "name": "stdout",
     "output_type": "stream",
     "text": [
      "Model: \"model\"\n",
      "_________________________________________________________________\n",
      "Layer (type)                 Output Shape              Param #   \n",
      "=================================================================\n",
      "input_1 (InputLayer)         [(None, 224, 224, 3)]     0         \n",
      "_________________________________________________________________\n",
      "block1_conv1 (Conv2D)        (None, 224, 224, 64)      1792      \n",
      "_________________________________________________________________\n",
      "block1_conv2 (Conv2D)        (None, 224, 224, 64)      36928     \n",
      "_________________________________________________________________\n",
      "block1_pool (MaxPooling2D)   (None, 112, 112, 64)      0         \n",
      "_________________________________________________________________\n",
      "block2_conv1 (Conv2D)        (None, 112, 112, 128)     73856     \n",
      "_________________________________________________________________\n",
      "block2_conv2 (Conv2D)        (None, 112, 112, 128)     147584    \n",
      "_________________________________________________________________\n",
      "block2_pool (MaxPooling2D)   (None, 56, 56, 128)       0         \n",
      "_________________________________________________________________\n",
      "block3_conv1 (Conv2D)        (None, 56, 56, 256)       295168    \n",
      "_________________________________________________________________\n",
      "block3_conv2 (Conv2D)        (None, 56, 56, 256)       590080    \n",
      "_________________________________________________________________\n",
      "block3_conv3 (Conv2D)        (None, 56, 56, 256)       590080    \n",
      "_________________________________________________________________\n",
      "block3_pool (MaxPooling2D)   (None, 28, 28, 256)       0         \n",
      "_________________________________________________________________\n",
      "block4_conv1 (Conv2D)        (None, 28, 28, 512)       1180160   \n",
      "_________________________________________________________________\n",
      "block4_conv2 (Conv2D)        (None, 28, 28, 512)       2359808   \n",
      "_________________________________________________________________\n",
      "block4_conv3 (Conv2D)        (None, 28, 28, 512)       2359808   \n",
      "_________________________________________________________________\n",
      "block4_pool (MaxPooling2D)   (None, 14, 14, 512)       0         \n",
      "_________________________________________________________________\n",
      "block5_conv1 (Conv2D)        (None, 14, 14, 512)       2359808   \n",
      "_________________________________________________________________\n",
      "block5_conv2 (Conv2D)        (None, 14, 14, 512)       2359808   \n",
      "_________________________________________________________________\n",
      "block5_conv3 (Conv2D)        (None, 14, 14, 512)       2359808   \n",
      "_________________________________________________________________\n",
      "block5_pool (MaxPooling2D)   (None, 7, 7, 512)         0         \n",
      "_________________________________________________________________\n",
      "flatten (Flatten)            (None, 25088)             0         \n",
      "_________________________________________________________________\n",
      "fc1 (Dense)                  (None, 4096)              102764544 \n",
      "_________________________________________________________________\n",
      "fc2 (Dense)                  (None, 4096)              16781312  \n",
      "_________________________________________________________________\n",
      "predictions (Dense)          (None, 5)                 20485     \n",
      "=================================================================\n",
      "Total params: 134,281,029\n",
      "Trainable params: 134,020,869\n",
      "Non-trainable params: 260,160\n",
      "_________________________________________________________________\n"
     ]
    }
   ],
   "source": [
    "model.summary()"
   ]
  },
  {
   "cell_type": "code",
   "execution_count": 13,
   "metadata": {},
   "outputs": [],
   "source": [
    "checkpoint = ModelCheckpoint(\"vgg16_diabetes.h5\", monitor='val_accuracy', verbose=1, \n",
    "                             save_best_only=True, save_weights_only=False, mode='auto')\n",
    "early = EarlyStopping(monitor='val_accuracy', min_delta=0, patience=20, verbose=1, mode='auto')"
   ]
  },
  {
   "cell_type": "code",
   "execution_count": 14,
   "metadata": {},
   "outputs": [
    {
     "data": {
      "text/plain": [
       "{0: 4.878378378378378,\n",
       " 1: 1.8072590738423029,\n",
       " 2: 1.0,\n",
       " 3: 6.11864406779661,\n",
       " 4: 9.376623376623376}"
      ]
     },
     "execution_count": 14,
     "metadata": {},
     "output_type": "execute_result"
    }
   ],
   "source": [
    "counter = Counter(traindata.classes)                       \n",
    "max_val = float(max(counter.values()))   \n",
    "class_weights = {class_id : max_val/num_images for class_id, num_images in counter.items()}\n",
    "class_weights"
   ]
  },
  {
   "cell_type": "code",
   "execution_count": 15,
   "metadata": {},
   "outputs": [],
   "source": [
    "opt = Adam(lr=0.000001)\n",
    "model.compile(optimizer=opt, loss=categorical_crossentropy, \n",
    "              metrics=['accuracy'])\n"
   ]
  },
  {
   "cell_type": "markdown",
   "metadata": {},
   "source": [
    "Notice that our non-trainable parameters are just about 260k while trainable parameters are 134M. This was the result of setting trainable layers which we did earlier.\n",
    "\n",
    "Then we create the checkpoint (which saves the weights when we get the best validation accuracy while training) and early stopping (which stops the training when we reach a certain number of epochs and the validation accuracy is not improving). In our case, we set it to only 20 epochs (denoted by the patience attribute)."
   ]
  },
  {
   "cell_type": "markdown",
   "metadata": {},
   "source": [
    "To make sure that we have a fair training of our data, we use class weights. We compute this by using Counter to count the number of images per class/category over the number of the supposed max number of images per class/category."
   ]
  },
  {
   "cell_type": "markdown",
   "metadata": {},
   "source": [
    "Now that everything's set, let's start training!\n",
    "\n",
    "Note that we are computing the steps per epoch and the validation steps. This is to get the optimal number of these variables for training our data."
   ]
  },
  {
   "cell_type": "code",
   "execution_count": 16,
   "metadata": {},
   "outputs": [
    {
     "name": "stdout",
     "output_type": "stream",
     "text": [
      "Train for 91 steps, validate for 22 steps\n",
      "Epoch 1/80\n",
      "90/91 [============================>.] - ETA: 0s - loss: 3.5492 - accuracy: 0.5086\n",
      "Epoch 00001: val_accuracy improved from -inf to 0.55682, saving model to vgg16_diabetes.h5\n",
      "91/91 [==============================] - 27s 299ms/step - loss: 3.5412 - accuracy: 0.5088 - val_loss: 3.1629 - val_accuracy: 0.5568\n",
      "Epoch 2/80\n",
      "90/91 [============================>.] - ETA: 0s - loss: 2.6294 - accuracy: 0.6754\n",
      "Epoch 00002: val_accuracy improved from 0.55682 to 0.67614, saving model to vgg16_diabetes.h5\n",
      "91/91 [==============================] - 21s 233ms/step - loss: 2.6269 - accuracy: 0.6748 - val_loss: 2.8593 - val_accuracy: 0.6761\n",
      "Epoch 3/80\n",
      "90/91 [============================>.] - ETA: 0s - loss: 2.2724 - accuracy: 0.7379\n",
      "Epoch 00003: val_accuracy improved from 0.67614 to 0.69176, saving model to vgg16_diabetes.h5\n",
      "91/91 [==============================] - 21s 230ms/step - loss: 2.2752 - accuracy: 0.7366 - val_loss: 2.7545 - val_accuracy: 0.6918\n",
      "Epoch 4/80\n",
      "90/91 [============================>.] - ETA: 0s - loss: 1.9952 - accuracy: 0.7714\n",
      "Epoch 00004: val_accuracy improved from 0.69176 to 0.71591, saving model to vgg16_diabetes.h5\n",
      "91/91 [==============================] - 21s 228ms/step - loss: 2.0001 - accuracy: 0.7708 - val_loss: 2.7929 - val_accuracy: 0.7159\n",
      "Epoch 5/80\n",
      "90/91 [============================>.] - ETA: 0s - loss: 1.7379 - accuracy: 0.8080\n",
      "Epoch 00005: val_accuracy improved from 0.71591 to 0.72869, saving model to vgg16_diabetes.h5\n",
      "91/91 [==============================] - 27s 291ms/step - loss: 1.7398 - accuracy: 0.8081 - val_loss: 2.6394 - val_accuracy: 0.7287\n",
      "Epoch 6/80\n",
      "90/91 [============================>.] - ETA: 0s - loss: 1.5312 - accuracy: 0.8311\n",
      "Epoch 00006: val_accuracy did not improve from 0.72869\n",
      "91/91 [==============================] - 17s 186ms/step - loss: 1.5312 - accuracy: 0.8295 - val_loss: 2.6618 - val_accuracy: 0.7116\n",
      "Epoch 7/80\n",
      "90/91 [============================>.] - ETA: 0s - loss: 1.3456 - accuracy: 0.8583\n",
      "Epoch 00007: val_accuracy improved from 0.72869 to 0.74290, saving model to vgg16_diabetes.h5\n",
      "91/91 [==============================] - 20s 224ms/step - loss: 1.3482 - accuracy: 0.8578 - val_loss: 2.7020 - val_accuracy: 0.7429\n",
      "Epoch 8/80\n",
      "90/91 [============================>.] - ETA: 0s - loss: 1.1297 - accuracy: 0.8866\n",
      "Epoch 00008: val_accuracy did not improve from 0.74290\n",
      "91/91 [==============================] - 17s 190ms/step - loss: 1.1295 - accuracy: 0.8868 - val_loss: 2.6630 - val_accuracy: 0.7259\n",
      "Epoch 9/80\n",
      "90/91 [============================>.] - ETA: 0s - loss: 0.9969 - accuracy: 0.8911\n",
      "Epoch 00009: val_accuracy improved from 0.74290 to 0.75142, saving model to vgg16_diabetes.h5\n",
      "91/91 [==============================] - 20s 224ms/step - loss: 0.9991 - accuracy: 0.8913 - val_loss: 2.8824 - val_accuracy: 0.7514\n",
      "Epoch 10/80\n",
      "90/91 [============================>.] - ETA: 0s - loss: 0.8348 - accuracy: 0.9155\n",
      "Epoch 00010: val_accuracy improved from 0.75142 to 0.75852, saving model to vgg16_diabetes.h5\n",
      "91/91 [==============================] - 20s 225ms/step - loss: 0.8380 - accuracy: 0.9158 - val_loss: 2.8510 - val_accuracy: 0.7585\n",
      "Epoch 11/80\n",
      "90/91 [============================>.] - ETA: 0s - loss: 0.7145 - accuracy: 0.9323\n",
      "Epoch 00011: val_accuracy improved from 0.75852 to 0.76847, saving model to vgg16_diabetes.h5\n",
      "91/91 [==============================] - 39s 425ms/step - loss: 0.7137 - accuracy: 0.9323 - val_loss: 3.0761 - val_accuracy: 0.7685\n",
      "Epoch 12/80\n",
      "90/91 [============================>.] - ETA: 0s - loss: 0.5976 - accuracy: 0.9435\n",
      "Epoch 00012: val_accuracy did not improve from 0.76847\n",
      "91/91 [==============================] - 17s 184ms/step - loss: 0.5934 - accuracy: 0.9441 - val_loss: 3.0844 - val_accuracy: 0.7500\n",
      "Epoch 13/80\n",
      "90/91 [============================>.] - ETA: 0s - loss: 0.4903 - accuracy: 0.9578\n",
      "Epoch 00013: val_accuracy did not improve from 0.76847\n",
      "91/91 [==============================] - 17s 183ms/step - loss: 0.4914 - accuracy: 0.9582 - val_loss: 3.5100 - val_accuracy: 0.7656\n",
      "Epoch 14/80\n",
      "90/91 [============================>.] - ETA: 0s - loss: 0.4363 - accuracy: 0.9630\n",
      "Epoch 00014: val_accuracy did not improve from 0.76847\n",
      "91/91 [==============================] - 17s 187ms/step - loss: 0.4355 - accuracy: 0.9634 - val_loss: 3.3536 - val_accuracy: 0.7599\n",
      "Epoch 15/80\n",
      "90/91 [============================>.] - ETA: 0s - loss: 0.3533 - accuracy: 0.9728\n",
      "Epoch 00015: val_accuracy did not improve from 0.76847\n",
      "91/91 [==============================] - 17s 185ms/step - loss: 0.3589 - accuracy: 0.9713 - val_loss: 3.4451 - val_accuracy: 0.7514\n",
      "Epoch 16/80\n",
      "90/91 [============================>.] - ETA: 0s - loss: 0.3307 - accuracy: 0.9759\n",
      "Epoch 00016: val_accuracy did not improve from 0.76847\n",
      "91/91 [==============================] - 17s 184ms/step - loss: 0.3302 - accuracy: 0.9758 - val_loss: 3.3090 - val_accuracy: 0.7557\n",
      "Epoch 17/80\n",
      "90/91 [============================>.] - ETA: 0s - loss: 0.3083 - accuracy: 0.9735\n",
      "Epoch 00017: val_accuracy did not improve from 0.76847\n",
      "91/91 [==============================] - 17s 184ms/step - loss: 0.3087 - accuracy: 0.9738 - val_loss: 3.8521 - val_accuracy: 0.7585\n",
      "Epoch 18/80\n",
      "90/91 [============================>.] - ETA: 0s - loss: 0.2682 - accuracy: 0.9805\n",
      "Epoch 00018: val_accuracy did not improve from 0.76847\n",
      "91/91 [==============================] - 17s 185ms/step - loss: 0.2682 - accuracy: 0.9803 - val_loss: 3.4036 - val_accuracy: 0.7472\n",
      "Epoch 19/80\n",
      "90/91 [============================>.] - ETA: 0s - loss: 0.2199 - accuracy: 0.9846\n",
      "Epoch 00019: val_accuracy did not improve from 0.76847\n",
      "91/91 [==============================] - 17s 184ms/step - loss: 0.2235 - accuracy: 0.9848 - val_loss: 4.0583 - val_accuracy: 0.7628\n",
      "Epoch 20/80\n",
      "90/91 [============================>.] - ETA: 0s - loss: 0.2290 - accuracy: 0.9843\n",
      "Epoch 00020: val_accuracy did not improve from 0.76847\n",
      "91/91 [==============================] - 17s 184ms/step - loss: 0.2278 - accuracy: 0.9845 - val_loss: 4.0899 - val_accuracy: 0.7557\n",
      "Epoch 21/80\n",
      "90/91 [============================>.] - ETA: 0s - loss: 0.2095 - accuracy: 0.9864\n",
      "Epoch 00021: val_accuracy did not improve from 0.76847\n",
      "91/91 [==============================] - 17s 185ms/step - loss: 0.2081 - accuracy: 0.9865 - val_loss: 3.7679 - val_accuracy: 0.7543\n",
      "Epoch 22/80\n",
      "90/91 [============================>.] - ETA: 0s - loss: 0.1873 - accuracy: 0.9867\n",
      "Epoch 00022: val_accuracy did not improve from 0.76847\n",
      "91/91 [==============================] - 17s 184ms/step - loss: 0.1863 - accuracy: 0.9869 - val_loss: 4.1749 - val_accuracy: 0.7685\n",
      "Epoch 23/80\n",
      "90/91 [============================>.] - ETA: 0s - loss: 0.1838 - accuracy: 0.9878\n",
      "Epoch 00023: val_accuracy did not improve from 0.76847\n",
      "91/91 [==============================] - 17s 182ms/step - loss: 0.1827 - accuracy: 0.9879 - val_loss: 4.0109 - val_accuracy: 0.7628\n",
      "Epoch 24/80\n",
      "90/91 [============================>.] - ETA: 0s - loss: 0.1870 - accuracy: 0.9881\n",
      "Epoch 00024: val_accuracy did not improve from 0.76847\n",
      "91/91 [==============================] - 17s 187ms/step - loss: 0.1855 - accuracy: 0.9883 - val_loss: 4.2126 - val_accuracy: 0.7642\n",
      "Epoch 25/80\n",
      "90/91 [============================>.] - ETA: 0s - loss: 0.1720 - accuracy: 0.9874\n",
      "Epoch 00025: val_accuracy did not improve from 0.76847\n",
      "91/91 [==============================] - 17s 185ms/step - loss: 0.1714 - accuracy: 0.9876 - val_loss: 4.3370 - val_accuracy: 0.7656\n",
      "Epoch 26/80\n",
      "90/91 [============================>.] - ETA: 0s - loss: 0.1449 - accuracy: 0.9892\n",
      "Epoch 00026: val_accuracy did not improve from 0.76847\n",
      "91/91 [==============================] - 17s 184ms/step - loss: 0.1435 - accuracy: 0.9893 - val_loss: 4.5756 - val_accuracy: 0.7614\n",
      "Epoch 27/80\n",
      "90/91 [============================>.] - ETA: 0s - loss: 0.1692 - accuracy: 0.9881\n",
      "Epoch 00027: val_accuracy did not improve from 0.76847\n",
      "91/91 [==============================] - 17s 184ms/step - loss: 0.1758 - accuracy: 0.9879 - val_loss: 4.3046 - val_accuracy: 0.7642\n",
      "Epoch 28/80\n",
      "90/91 [============================>.] - ETA: 0s - loss: 0.1610 - accuracy: 0.9902\n",
      "Epoch 00028: val_accuracy did not improve from 0.76847\n",
      "91/91 [==============================] - 17s 185ms/step - loss: 0.1602 - accuracy: 0.9900 - val_loss: 4.7468 - val_accuracy: 0.7628\n"
     ]
    },
    {
     "name": "stdout",
     "output_type": "stream",
     "text": [
      "Epoch 29/80\n",
      "90/91 [============================>.] - ETA: 0s - loss: 0.1427 - accuracy: 0.9899\n",
      "Epoch 00029: val_accuracy did not improve from 0.76847\n",
      "91/91 [==============================] - 17s 185ms/step - loss: 0.1424 - accuracy: 0.9900 - val_loss: 4.1446 - val_accuracy: 0.7543\n",
      "Epoch 30/80\n",
      "90/91 [============================>.] - ETA: 0s - loss: 0.1443 - accuracy: 0.9899\n",
      "Epoch 00030: val_accuracy did not improve from 0.76847\n",
      "91/91 [==============================] - 17s 183ms/step - loss: 0.1434 - accuracy: 0.9900 - val_loss: 4.1947 - val_accuracy: 0.7628\n",
      "Epoch 31/80\n",
      "90/91 [============================>.] - ETA: 0s - loss: 0.1600 - accuracy: 0.9881\n",
      "Epoch 00031: val_accuracy did not improve from 0.76847\n",
      "91/91 [==============================] - 17s 184ms/step - loss: 0.1597 - accuracy: 0.9883 - val_loss: 4.1832 - val_accuracy: 0.7358\n",
      "Epoch 00031: early stopping\n"
     ]
    }
   ],
   "source": [
    "hist = model.fit(traindata, steps_per_epoch=traindata.samples//traindata.batch_size, validation_data=testdata, \n",
    "                 class_weight=class_weights, validation_steps=testdata.samples//testdata.batch_size, \n",
    "                 epochs=80,callbacks=[checkpoint,early])"
   ]
  },
  {
   "cell_type": "markdown",
   "metadata": {},
   "source": [
    "Then finally.. let's observe how the model is training. Let's plot our loss vs validation loss as well as accuracy vs validation accuracy."
   ]
  },
  {
   "cell_type": "code",
   "execution_count": 17,
   "metadata": {},
   "outputs": [
    {
     "data": {
      "image/png": "[encoded data removed]",
      "text/plain": [
       "<Figure size 432x288 with 1 Axes>"
      ]
     },
     "metadata": {
      "needs_background": "light"
     },
     "output_type": "display_data"
    },
    {
     "data": {
      "image/png": "[encoded data removed]",
      "text/plain": [
       "<Figure size 432x288 with 1 Axes>"
      ]
     },
     "metadata": {
      "needs_background": "light"
     },
     "output_type": "display_data"
    }
   ],
   "source": [
    "plt.plot(hist.history['loss'], label='train')\n",
    "plt.plot(hist.history['val_loss'], label='val')\n",
    "plt.title('VGG16: Loss and Validation Loss (0.000001 = Adam LR)')\n",
    "plt.legend();\n",
    "plt.show()\n",
    "\n",
    "plt.plot(hist.history['accuracy'], label='train')\n",
    "plt.plot(hist.history['val_accuracy'], label='val')\n",
    "plt.title('VGG16: Accuracy and Validation Accuracy (0.000001 = Adam LR)')\n",
    "plt.legend();\n",
    "plt.show()"
   ]
  },
  {
   "cell_type": "markdown",
   "metadata": {},
   "source": [
    "And that's that!\n",
    "\n",
    "Thanks!"
   ]
  }
 ],
 "metadata": {
  "kernelspec": {
   "display_name": "Python 3",
   "language": "python",
   "name": "python3"
  },
  "language_info": {
   "codemirror_mode": {
    "name": "ipython",
    "version": 3
   },
   "file_extension": ".py",
   "mimetype": "text/x-python",
   "name": "python",
   "nbconvert_exporter": "python",
   "pygments_lexer": "ipython3",
   "version": "3.7.7"
  }
 },
 "nbformat": 4,
 "nbformat_minor": 4
}
